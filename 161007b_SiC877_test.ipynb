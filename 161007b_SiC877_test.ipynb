{
 "cells": [
  {
   "cell_type": "code",
   "execution_count": 1,
   "metadata": {
    "collapsed": true
   },
   "outputs": [],
   "source": [
    "import numpy as np \n",
    "import matplotlib.pyplot as plt\n",
    "%matplotlib inline\n",
    "# use %matplotlib notebook for interactive plots here in the notebook\n",
    "from igor.binarywave import Waves"
   ]
  },
  {
   "cell_type": "code",
   "execution_count": 2,
   "metadata": {
    "collapsed": true
   },
   "outputs": [],
   "source": [
    "import lmfit\n",
    "from lmfit import Model\n",
    "import pickle"
   ]
  },
  {
   "cell_type": "code",
   "execution_count": 3,
   "metadata": {
    "collapsed": true
   },
   "outputs": [],
   "source": [
    "e=1.60217646e-19;  mstar=8.724125937209915e-32; h=6.626068e-34; G_0=7.45e-5; hbar=h/2.0/np.pi;\n",
    "# D=5.106250385935459e-03 # diffusion constant\n",
    "\n",
    "from scipy.special import psi\n",
    "\n",
    "# basic fit function\n",
    "def wlcorr(b, bo, ro, Bphi, Bi, Bstar, lin, A):\n",
    "    \"\"\" Weak localization peak fitting function. Adapted from Igor code. \"\"\"\n",
    "    b=b-bo\n",
    "\n",
    "    z1=np.array(abs(b)/abs(Bphi), dtype=np.float64)\n",
    "    F1=np.log(z1)+psi(0.5+1/z1)\n",
    "\n",
    "    z2=np.array(abs(b)/(abs(Bphi)+2*abs(Bi)), dtype=np.float64)\n",
    "    F2=np.log(z2)+psi(0.5+1/z2)\n",
    "\n",
    "    z3=np.array(abs(b)/(abs(Bphi)+abs(Bstar)), dtype=np.float64)\n",
    "    F3=np.log(z3)+psi(0.5+1/z3)\n",
    "\n",
    "    return (lin*b) + ro - A*ro**2.0*(e*e/np.pi/h*(F1-F2-2*F3))\n",
    "# unit of Bphi is determined by unit of denominator--abs(b) or similar, if the b input is in mT, then, Bphi in mT, if the B input is in T, then, Bphi in T\n",
    "\n",
    "def wlcorrd(b,  Bphi, Bi, Bstar,bo, c1,c2):\n",
    "    \"\"\" Weak localization peak fitting function. Adapted from Igor code. \"\"\"\n",
    "    \n",
    "\n",
    "    z1=np.array(abs(b-bo)/1000/abs(Bphi), dtype=np.float64)\n",
    "    F1=np.log(z1)+psi(0.5+1/z1)\n",
    "\n",
    "    z2=np.array(abs(b-bo)/1000/(abs(Bphi)+2*abs(Bi)), dtype=np.float64)\n",
    "    F2=np.log(z2)+psi(0.5+1/z2)\n",
    "\n",
    "    z3=np.array(abs(b-bo)/1000/(abs(Bphi)+abs(Bstar)), dtype=np.float64)\n",
    "    F3=np.log(z3)+psi(0.5+1/z3)\n",
    "\n",
    "    return c1*(b-bo) + c2 - (e*e/np.pi/h*(F1-F2-2*F3))\n",
    "# unit of Bphi is determined by unit of denominator---abs(b-bo)/1000, for input b in mT (thus bo also in mT), abs(b-bo)/1000 is in T, thus Bphi in T\n",
    "\n",
    "\n",
    "###########\n",
    "#function mgrapheneWLd(b,bphi,bi,bs,b0,c1,c2)\n",
    "#     variable b,bphi,bi,bs,b0,c1,c2\n",
    "#     variable t1 = ffunc((b-b0)/1000/abs(bphi))\n",
    "#     variable t2 = ffunc((b-b0)/1000/(abs(bphi)+2*abs(bi)))\n",
    "#     variable t3 = ffunc((b-b0)/1000/(abs(bphi)+abs(bs))) \n",
    "#     return -(t1 - t2 - 2*t3)*3.87e-5/pi+c1*(b-b0)+c2\n",
    "#end\n",
    "###########\n",
    "#       K0     =0.0010882 ± 1.06e-005\n",
    "#       K1     =-0.0012604 ± 1.63e-005\n",
    "#       K2     =-0.030482 ± 0.00019\n",
    "#       K3     =3.3877 ± 0.0215\n",
    "#       K4     =9.5847e-009 ± 1.23e-010\n",
    "#       K5     =-1.9421e-007 ± 3.52e-008\n",
    "\n",
    "### parabola to fit curvature only ###\n",
    "def parabola(b, bo, ro, a):\n",
    "    \"\"\" Inverse parabola for fitting  \"\"\"\n",
    "    return ro - a*np.power(b - bo, 2)\n",
    "\n",
    "\n",
    "def find_nearest(array, value):\n",
    "    idx = (np.abs(array-value)).argmin()\n",
    "    return idx\n",
    "\n",
    "\n",
    "def round_to(n, precision):\n",
    "    \"\"\" http://stackoverflow.com/questions/4265546/python-round-to-nearest-05 \"\"\"\n",
    "    correction = 0.5 if n >= 0 else -0.5\n",
    "    return int( n/precision+correction ) * precision\n",
    "\n",
    "\n",
    "def wl_fit(b, rxx, width, height, fix = None, ro=None, bcenter = None):\n",
    "    \"\"\" fit a single b_perpendicular (b) and r_xx set to the WL model.\n",
    "    \n",
    "        Inputs:  width -- range of data over which to fit\n",
    "                 fix -- dictionary of parameters to fix and their values\n",
    "                 ro -- initial guess at ro\n",
    "                 bcenter -- initial guess at bcenter \n",
    "        Outputs: results -- lmfit results object \"\"\"\n",
    "\n",
    "    # create model\n",
    "    model = Model(wlcorr, independent_vars=['b'])\n",
    "    params = model.make_params()\n",
    "    method = 'nelder'\n",
    "\n",
    "    if not bcenter:\n",
    "        bcenter = b.mean()\n",
    "    if not ro:\n",
    "        ro = rxx[find_nearest(b, bcenter)]\n",
    "    \n",
    "    ### data selection criteria ###\n",
    "    right = bcenter+width\n",
    "    left = bcenter-width \n",
    "    bottom = (1-height)*ro\n",
    "\n",
    "    bi = (b > left) & (b < right)\n",
    "    ri = (rxx > bottom)\n",
    "    inds = bi & ri\n",
    "\n",
    "    b = b[inds]\n",
    "    rxx = rxx[inds]\n",
    "    ### end data selection ###\n",
    "\n",
    "    # always vary\n",
    "    params['bo'].value = bcenter\n",
    "    params['ro'].value = round_to(ro, 0.5)\n",
    "    params['Bphi'].value = 0.15\n",
    "\n",
    "    # sometimes vary\n",
    "    params['Bi'].value = 1.8\n",
    "    params['Bstar'].value = 2.5e7\n",
    "    params['lin'].value = 0.0027\n",
    "    params['A'].value = 1.00 \n",
    "        \n",
    "    if fix:\n",
    "        for p in fix:\n",
    "            params[p].vary = False\n",
    "            params[p].value = fix[p]\n",
    "\n",
    "    result = model.fit(rxx, params, b=b, method = method)\n",
    "    return result"
   ]
  },
  {
   "cell_type": "code",
   "execution_count": 5,
   "metadata": {
    "collapsed": false
   },
   "outputs": [],
   "source": [
    "local_data = 'C:/Users/labuser/Documents/measurements/161007b' #local_data = 'Y:/qdot25/Rui/161007b' also works"
   ]
  },
  {
   "cell_type": "code",
   "execution_count": 7,
   "metadata": {
    "collapsed": true
   },
   "outputs": [],
   "source": [
    "import os, shutil"
   ]
  },
  {
   "cell_type": "code",
   "execution_count": 8,
   "metadata": {
    "collapsed": false
   },
   "outputs": [],
   "source": [
    "os.chdir(local_data)"
   ]
  },
  {
   "cell_type": "code",
   "execution_count": 9,
   "metadata": {
    "collapsed": true
   },
   "outputs": [],
   "source": [
    "w = Waves('dat4g4x.ibw') "
   ]
  },
  {
   "cell_type": "code",
   "execution_count": 10,
   "metadata": {
    "collapsed": false
   },
   "outputs": [
    {
     "data": {
      "text/plain": [
       "[<matplotlib.lines.Line2D at 0x599a438>]"
      ]
     },
     "execution_count": 10,
     "metadata": {},
     "output_type": "execute_result"
    },
    {
     "data": {
      "image/png": "[encoded data removed]",
      "text/plain": [
       "<matplotlib.figure.Figure at 0x599a470>"
      ]
     },
     "metadata": {},
     "output_type": "display_data"
    }
   ],
   "source": [
    "fig, ax = plt.subplots(1,1)\n",
    "ax.plot(w.x, (1)*w.y/1000/100e-9) #width of #10 graphene/BN is 33um, length between voltage probes is 20um"
   ]
  },
  {
   "cell_type": "code",
   "execution_count": 11,
   "metadata": {
    "collapsed": true
   },
   "outputs": [],
   "source": [
    "model = Model(wlcorr, independent_vars=['b'])\n",
    "params = model.make_params()"
   ]
  },
  {
   "cell_type": "code",
   "execution_count": 12,
   "metadata": {
    "collapsed": true
   },
   "outputs": [],
   "source": [
    "params['bo'].value = 3.3877#round_to(1, 0.001) # round to nearest...\n",
    "# params['bo'].min = low\n",
    "# params['bo'].max = high\n",
    "params['ro'].value =3560# round_to(2140, 0.5)\n",
    "# params['ro'].min = ro-10.0\n",
    "# params['ro'].max = ro+10.0\n",
    "params['Bphi'].value = 1\n",
    "params['Bi'].value = 1\n",
    "params['Bstar'].value = 30\n",
    "params['lin'].value = 0\n",
    "params['A'].value = 1\n",
    "\n",
    "\n",
    " #tt=wlcorr(ff.y, 3.3877, 3560, 1, 1, 30, 0, 1)\n",
    "    \n",
    "    #(b, bo, ro, Bphi, Bi, Bstar, lin, A):"
   ]
  },
  {
   "cell_type": "code",
   "execution_count": 13,
   "metadata": {
    "collapsed": false
   },
   "outputs": [
    {
     "name": "stdout",
     "output_type": "stream",
     "text": [
      "[[Model]]\n",
      "    Model(wlcorr)\n",
      "[[Fit Statistics]]\n",
      "    # function evals   = 569\n",
      "    # data points      = 500\n",
      "    # variables        = 7\n",
      "    chi-square         = 27.203\n",
      "    reduced chi-square = 0.055\n",
      "    Akaike info crit   = -1441.649\n",
      "    Bayesian info crit = -1412.147\n",
      "[[Variables]]\n",
      "    bo:      6.07572641 +/- 0.024281 (0.40%) (init= 3.3877)\n",
      "    ro:      1068.94316 +/- 0.064011 (0.01%) (init= 3560)\n",
      "    Bphi:    1.81540506 +/- 0.039564 (2.18%) (init= 1)\n",
      "    Bi:      19.8280077 +/- 2.56e+04 (128943.33%) (init= 1)\n",
      "    Bstar:   39.6575522 +/- 2.56e+04 (64458.14%) (init= 30)\n",
      "    lin:    -0.01128096 +/- 0.000206 (1.83%) (init= 0)\n",
      "    A:       1.53003769 +/- 0.028303 (1.85%) (init= 1)\n",
      "[[Correlations]] (unreported correlations are <  0.100)\n",
      "    C(Bi, Bstar)                 = -1.000 \n",
      "    C(Bphi, A)                   =  0.972 \n",
      "    C(Bstar, A)                  = -0.890 \n",
      "    C(Bi, A)                     =  0.890 \n",
      "    C(Bphi, Bstar)               = -0.787 \n",
      "    C(Bphi, Bi)                  =  0.787 \n",
      "    C(ro, Bphi)                  = -0.749 \n",
      "    C(ro, A)                     = -0.600 \n",
      "    C(bo, lin)                   = -0.385 \n",
      "    C(ro, Bstar)                 =  0.375 \n",
      "    C(ro, Bi)                    = -0.375 \n",
      "    C(Bi, lin)                   = -0.160 \n",
      "    C(Bstar, lin)                =  0.160 \n",
      "\n"
     ]
    }
   ],
   "source": [
    "result = model.fit((1)*w.y/1000/100e-9, params, b=w.x)\n",
    "print (result.fit_report())"
   ]
  },
  {
   "cell_type": "code",
   "execution_count": 14,
   "metadata": {
    "collapsed": false
   },
   "outputs": [
    {
     "data": {
      "text/plain": [
       "[<matplotlib.lines.Line2D at 0x5e53fd0>]"
      ]
     },
     "execution_count": 14,
     "metadata": {},
     "output_type": "execute_result"
    },
    {
     "data": {
      "image/png": "[encoded data removed]",
      "text/plain": [
       "<matplotlib.figure.Figure at 0x599a2b0>"
      ]
     },
     "metadata": {},
     "output_type": "display_data"
    }
   ],
   "source": [
    "fig, ax = plt.subplots(1,1)\n",
    "ax.plot(w.x, (1)*w.y/1000/100e-9, color = 'darkblue', linewidth =5)\n",
    "ax.plot(w.x, wlcorr(w.x, **result.values), color = 'r', linewidth = 3)"
   ]
  },
  {
   "cell_type": "code",
   "execution_count": null,
   "metadata": {
    "collapsed": true
   },
   "outputs": [],
   "source": []
  }
 ],
 "metadata": {
  "anaconda-cloud": {},
  "kernelspec": {
   "display_name": "Python [Root]",
   "language": "python",
   "name": "Python [Root]"
  },
  "language_info": {
   "codemirror_mode": {
    "name": "ipython",
    "version": 3
   },
   "file_extension": ".py",
   "mimetype": "text/x-python",
   "name": "python",
   "nbconvert_exporter": "python",
   "pygments_lexer": "ipython3",
   "version": "3.5.2"
  }
 },
 "nbformat": 4,
 "nbformat_minor": 0
}
